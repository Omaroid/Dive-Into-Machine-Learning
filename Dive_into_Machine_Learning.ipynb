{
  "nbformat": 4,
  "nbformat_minor": 0,
  "metadata": {
    "colab": {
      "name": "Dive into Machine Learning.ipynb",
      "provenance": [],
      "collapsed_sections": []
    },
    "kernelspec": {
      "name": "python3",
      "display_name": "Python 3"
    }
  },
  "cells": [
    {
      "cell_type": "markdown",
      "metadata": {
        "id": "Qt5QM2hGWVA3",
        "colab_type": "text"
      },
      "source": [
        "# Dive into Machine Learning"
      ]
    },
    {
      "cell_type": "markdown",
      "metadata": {
        "id": "2xIO03yLWkv1",
        "colab_type": "text"
      },
      "source": [
        "## Présentation du workshop\n"
      ]
    },
    {
      "cell_type": "markdown",
      "metadata": {
        "id": "gehIOY8wYcaF",
        "colab_type": "text"
      },
      "source": [
        ""
      ]
    },
    {
      "cell_type": "code",
      "metadata": {
        "id": "9EtGw9SPc6_B",
        "colab_type": "code",
        "colab": {}
      },
      "source": [
        "import pandas as pd\n",
        "import numpy as np"
      ],
      "execution_count": 1,
      "outputs": []
    },
    {
      "cell_type": "markdown",
      "metadata": {
        "id": "COZZ96AyZg8O",
        "colab_type": "text"
      },
      "source": [
        "# Algorithmes supérvisés"
      ]
    },
    {
      "cell_type": "markdown",
      "metadata": {
        "id": "MD6FajKphc2j",
        "colab_type": "text"
      },
      "source": [
        "## Classification"
      ]
    },
    {
      "cell_type": "code",
      "metadata": {
        "id": "s3NkEoz-czlQ",
        "colab_type": "code",
        "colab": {}
      },
      "source": [
        "from sklearn.datasets import load_iris"
      ],
      "execution_count": 2,
      "outputs": []
    },
    {
      "cell_type": "code",
      "metadata": {
        "id": "VvLX0Mhzc4ch",
        "colab_type": "code",
        "colab": {}
      },
      "source": [
        "dataset_iris = load_iris()  #https://scikit-learn.org/stable/modules/generated/sklearn.datasets.load_iris.html#sklearn.datasets.load_iris"
      ],
      "execution_count": 3,
      "outputs": []
    },
    {
      "cell_type": "code",
      "metadata": {
        "id": "j2HL8ZWhdFgy",
        "colab_type": "code",
        "colab": {
          "base_uri": "https://localhost:8080/",
          "height": 1000
        },
        "outputId": "d02dbf31-1a71-4ecd-8a27-7d693d02989c"
      },
      "source": [
        "print(dataset_iris['DESCR'])"
      ],
      "execution_count": 4,
      "outputs": [
        {
          "output_type": "stream",
          "text": [
            ".. _iris_dataset:\n",
            "\n",
            "Iris plants dataset\n",
            "--------------------\n",
            "\n",
            "**Data Set Characteristics:**\n",
            "\n",
            "    :Number of Instances: 150 (50 in each of three classes)\n",
            "    :Number of Attributes: 4 numeric, predictive attributes and the class\n",
            "    :Attribute Information:\n",
            "        - sepal length in cm\n",
            "        - sepal width in cm\n",
            "        - petal length in cm\n",
            "        - petal width in cm\n",
            "        - class:\n",
            "                - Iris-Setosa\n",
            "                - Iris-Versicolour\n",
            "                - Iris-Virginica\n",
            "                \n",
            "    :Summary Statistics:\n",
            "\n",
            "    ============== ==== ==== ======= ===== ====================\n",
            "                    Min  Max   Mean    SD   Class Correlation\n",
            "    ============== ==== ==== ======= ===== ====================\n",
            "    sepal length:   4.3  7.9   5.84   0.83    0.7826\n",
            "    sepal width:    2.0  4.4   3.05   0.43   -0.4194\n",
            "    petal length:   1.0  6.9   3.76   1.76    0.9490  (high!)\n",
            "    petal width:    0.1  2.5   1.20   0.76    0.9565  (high!)\n",
            "    ============== ==== ==== ======= ===== ====================\n",
            "\n",
            "    :Missing Attribute Values: None\n",
            "    :Class Distribution: 33.3% for each of 3 classes.\n",
            "    :Creator: R.A. Fisher\n",
            "    :Donor: Michael Marshall (MARSHALL%PLU@io.arc.nasa.gov)\n",
            "    :Date: July, 1988\n",
            "\n",
            "The famous Iris database, first used by Sir R.A. Fisher. The dataset is taken\n",
            "from Fisher's paper. Note that it's the same as in R, but not as in the UCI\n",
            "Machine Learning Repository, which has two wrong data points.\n",
            "\n",
            "This is perhaps the best known database to be found in the\n",
            "pattern recognition literature.  Fisher's paper is a classic in the field and\n",
            "is referenced frequently to this day.  (See Duda & Hart, for example.)  The\n",
            "data set contains 3 classes of 50 instances each, where each class refers to a\n",
            "type of iris plant.  One class is linearly separable from the other 2; the\n",
            "latter are NOT linearly separable from each other.\n",
            "\n",
            ".. topic:: References\n",
            "\n",
            "   - Fisher, R.A. \"The use of multiple measurements in taxonomic problems\"\n",
            "     Annual Eugenics, 7, Part II, 179-188 (1936); also in \"Contributions to\n",
            "     Mathematical Statistics\" (John Wiley, NY, 1950).\n",
            "   - Duda, R.O., & Hart, P.E. (1973) Pattern Classification and Scene Analysis.\n",
            "     (Q327.D83) John Wiley & Sons.  ISBN 0-471-22361-1.  See page 218.\n",
            "   - Dasarathy, B.V. (1980) \"Nosing Around the Neighborhood: A New System\n",
            "     Structure and Classification Rule for Recognition in Partially Exposed\n",
            "     Environments\".  IEEE Transactions on Pattern Analysis and Machine\n",
            "     Intelligence, Vol. PAMI-2, No. 1, 67-71.\n",
            "   - Gates, G.W. (1972) \"The Reduced Nearest Neighbor Rule\".  IEEE Transactions\n",
            "     on Information Theory, May 1972, 431-433.\n",
            "   - See also: 1988 MLC Proceedings, 54-64.  Cheeseman et al\"s AUTOCLASS II\n",
            "     conceptual clustering system finds 3 classes in the data.\n",
            "   - Many, many more ...\n"
          ],
          "name": "stdout"
        }
      ]
    },
    {
      "cell_type": "code",
      "metadata": {
        "id": "d_skRaO_fROT",
        "colab_type": "code",
        "colab": {
          "base_uri": "https://localhost:8080/",
          "height": 83
        },
        "outputId": "c77dc9f3-1bd4-4e1e-ba0e-759ecc71c783"
      },
      "source": [
        "print(\"Les attributs des fleurs sont :\",dataset_iris['feature_names'])\n",
        "print(\"Les classes des fleurs sont :\",dataset_iris['target_names'])\n",
        "print(\"Taille du dataset d'attributs :\",len(dataset_iris.data))\n",
        "print(\"Taille du dataset de classes :\",len(dataset_iris.data))"
      ],
      "execution_count": 5,
      "outputs": [
        {
          "output_type": "stream",
          "text": [
            "Les attributs des fleurs sont : ['sepal length (cm)', 'sepal width (cm)', 'petal length (cm)', 'petal width (cm)']\n",
            "Les classes des fleurs sont : ['setosa' 'versicolor' 'virginica']\n",
            "Taille du dataset d'attributs : 150\n",
            "Taille du dataset de classes : 150\n"
          ],
          "name": "stdout"
        }
      ]
    },
    {
      "cell_type": "code",
      "metadata": {
        "id": "vGlEOGIafzs3",
        "colab_type": "code",
        "colab": {
          "base_uri": "https://localhost:8080/",
          "height": 197
        },
        "outputId": "f3861d10-7d32-4c16-9cc5-7da12b957d9a"
      },
      "source": [
        "df_X = pd.DataFrame(dataset_iris['data'], columns=dataset_iris['feature_names'])\n",
        "df_X.head()"
      ],
      "execution_count": 6,
      "outputs": [
        {
          "output_type": "execute_result",
          "data": {
            "text/html": [
              "<div>\n",
              "<style scoped>\n",
              "    .dataframe tbody tr th:only-of-type {\n",
              "        vertical-align: middle;\n",
              "    }\n",
              "\n",
              "    .dataframe tbody tr th {\n",
              "        vertical-align: top;\n",
              "    }\n",
              "\n",
              "    .dataframe thead th {\n",
              "        text-align: right;\n",
              "    }\n",
              "</style>\n",
              "<table border=\"1\" class=\"dataframe\">\n",
              "  <thead>\n",
              "    <tr style=\"text-align: right;\">\n",
              "      <th></th>\n",
              "      <th>sepal length (cm)</th>\n",
              "      <th>sepal width (cm)</th>\n",
              "      <th>petal length (cm)</th>\n",
              "      <th>petal width (cm)</th>\n",
              "    </tr>\n",
              "  </thead>\n",
              "  <tbody>\n",
              "    <tr>\n",
              "      <th>0</th>\n",
              "      <td>5.1</td>\n",
              "      <td>3.5</td>\n",
              "      <td>1.4</td>\n",
              "      <td>0.2</td>\n",
              "    </tr>\n",
              "    <tr>\n",
              "      <th>1</th>\n",
              "      <td>4.9</td>\n",
              "      <td>3.0</td>\n",
              "      <td>1.4</td>\n",
              "      <td>0.2</td>\n",
              "    </tr>\n",
              "    <tr>\n",
              "      <th>2</th>\n",
              "      <td>4.7</td>\n",
              "      <td>3.2</td>\n",
              "      <td>1.3</td>\n",
              "      <td>0.2</td>\n",
              "    </tr>\n",
              "    <tr>\n",
              "      <th>3</th>\n",
              "      <td>4.6</td>\n",
              "      <td>3.1</td>\n",
              "      <td>1.5</td>\n",
              "      <td>0.2</td>\n",
              "    </tr>\n",
              "    <tr>\n",
              "      <th>4</th>\n",
              "      <td>5.0</td>\n",
              "      <td>3.6</td>\n",
              "      <td>1.4</td>\n",
              "      <td>0.2</td>\n",
              "    </tr>\n",
              "  </tbody>\n",
              "</table>\n",
              "</div>"
            ],
            "text/plain": [
              "   sepal length (cm)  sepal width (cm)  petal length (cm)  petal width (cm)\n",
              "0                5.1               3.5                1.4               0.2\n",
              "1                4.9               3.0                1.4               0.2\n",
              "2                4.7               3.2                1.3               0.2\n",
              "3                4.6               3.1                1.5               0.2\n",
              "4                5.0               3.6                1.4               0.2"
            ]
          },
          "metadata": {
            "tags": []
          },
          "execution_count": 6
        }
      ]
    },
    {
      "cell_type": "code",
      "metadata": {
        "id": "OSkyJPGvGhMp",
        "colab_type": "code",
        "colab": {
          "base_uri": "https://localhost:8080/",
          "height": 216
        },
        "outputId": "f3265eaa-85d9-4ae0-99b8-701e1874f948"
      },
      "source": [
        "df_Y= pd.DataFrame(dataset_iris['target'])\n",
        "print(df_Y.head())\n",
        "print(df_Y.tail())"
      ],
      "execution_count": 7,
      "outputs": [
        {
          "output_type": "stream",
          "text": [
            "   0\n",
            "0  0\n",
            "1  0\n",
            "2  0\n",
            "3  0\n",
            "4  0\n",
            "     0\n",
            "145  2\n",
            "146  2\n",
            "147  2\n",
            "148  2\n",
            "149  2\n"
          ],
          "name": "stdout"
        }
      ]
    },
    {
      "cell_type": "code",
      "metadata": {
        "id": "gi17TooviWGb",
        "colab_type": "code",
        "colab": {}
      },
      "source": [
        "from sklearn.model_selection import train_test_split #https://scikit-learn.org/stable/modules/generated/sklearn.model_selection.train_test_split.html#sklearn.model_selection.train_test_split"
      ],
      "execution_count": 8,
      "outputs": []
    },
    {
      "cell_type": "code",
      "metadata": {
        "id": "03UYywnzjrv6",
        "colab_type": "code",
        "colab": {}
      },
      "source": [
        "X=dataset_iris.data\n",
        "y=dataset_iris.target"
      ],
      "execution_count": 9,
      "outputs": []
    },
    {
      "cell_type": "code",
      "metadata": {
        "id": "yJiKKhn_ipMG",
        "colab_type": "code",
        "colab": {}
      },
      "source": [
        "X_train, X_test, y_train, y_test = train_test_split(X, y, test_size = 0.2, random_state = 22)"
      ],
      "execution_count": 10,
      "outputs": []
    },
    {
      "cell_type": "markdown",
      "metadata": {
        "id": "gQqaM_pIh2Oo",
        "colab_type": "text"
      },
      "source": [
        "### KNN K-Nearest Neighbors ou K plus proches voisins"
      ]
    },
    {
      "cell_type": "code",
      "metadata": {
        "id": "DWF_nSNrV2Jk",
        "colab_type": "code",
        "colab": {}
      },
      "source": [
        "from sklearn.neighbors import KNeighborsClassifier"
      ],
      "execution_count": 11,
      "outputs": []
    },
    {
      "cell_type": "code",
      "metadata": {
        "id": "KaKL0x9WZtIG",
        "colab_type": "code",
        "colab": {
          "base_uri": "https://localhost:8080/",
          "height": 833
        },
        "outputId": "f6802f33-af01-4d1e-d69c-9117e09349c4"
      },
      "source": [
        "dir(KNeighborsClassifier)"
      ],
      "execution_count": 12,
      "outputs": [
        {
          "output_type": "execute_result",
          "data": {
            "text/plain": [
              "['__abstractmethods__',\n",
              " '__class__',\n",
              " '__delattr__',\n",
              " '__dict__',\n",
              " '__dir__',\n",
              " '__doc__',\n",
              " '__eq__',\n",
              " '__format__',\n",
              " '__ge__',\n",
              " '__getattribute__',\n",
              " '__getstate__',\n",
              " '__gt__',\n",
              " '__hash__',\n",
              " '__init__',\n",
              " '__init_subclass__',\n",
              " '__le__',\n",
              " '__lt__',\n",
              " '__module__',\n",
              " '__ne__',\n",
              " '__new__',\n",
              " '__reduce__',\n",
              " '__reduce_ex__',\n",
              " '__repr__',\n",
              " '__setattr__',\n",
              " '__setstate__',\n",
              " '__sizeof__',\n",
              " '__str__',\n",
              " '__subclasshook__',\n",
              " '__weakref__',\n",
              " '_abc_cache',\n",
              " '_abc_negative_cache',\n",
              " '_abc_negative_cache_version',\n",
              " '_abc_registry',\n",
              " '_check_algorithm_metric',\n",
              " '_estimator_type',\n",
              " '_fit',\n",
              " '_get_param_names',\n",
              " '_get_tags',\n",
              " '_kneighbors_reduce_func',\n",
              " '_more_tags',\n",
              " '_pairwise',\n",
              " 'fit',\n",
              " 'get_params',\n",
              " 'kneighbors',\n",
              " 'kneighbors_graph',\n",
              " 'predict',\n",
              " 'predict_proba',\n",
              " 'score',\n",
              " 'set_params']"
            ]
          },
          "metadata": {
            "tags": []
          },
          "execution_count": 12
        }
      ]
    },
    {
      "cell_type": "code",
      "metadata": {
        "id": "7TOI-QKriDfB",
        "colab_type": "code",
        "colab": {}
      },
      "source": [
        "KNN_model = KNeighborsClassifier(n_neighbors= 7)"
      ],
      "execution_count": 13,
      "outputs": []
    },
    {
      "cell_type": "code",
      "metadata": {
        "id": "xQ_E59XnnmHp",
        "colab_type": "code",
        "colab": {
          "base_uri": "https://localhost:8080/",
          "height": 66
        },
        "outputId": "4f69e747-745a-4803-cf66-28d8851bb07c"
      },
      "source": [
        "KNN_model.fit(X_train,y_train)"
      ],
      "execution_count": 14,
      "outputs": [
        {
          "output_type": "execute_result",
          "data": {
            "text/plain": [
              "KNeighborsClassifier(algorithm='auto', leaf_size=30, metric='minkowski',\n",
              "                     metric_params=None, n_jobs=None, n_neighbors=7, p=2,\n",
              "                     weights='uniform')"
            ]
          },
          "metadata": {
            "tags": []
          },
          "execution_count": 14
        }
      ]
    },
    {
      "cell_type": "code",
      "metadata": {
        "id": "ZNb5RNz7pf-D",
        "colab_type": "code",
        "colab": {
          "base_uri": "https://localhost:8080/",
          "height": 66
        },
        "outputId": "753469e9-6748-4f2e-9d24-4a6303104fdd"
      },
      "source": [
        "KNN_model.get_params"
      ],
      "execution_count": 15,
      "outputs": [
        {
          "output_type": "execute_result",
          "data": {
            "text/plain": [
              "<bound method BaseEstimator.get_params of KNeighborsClassifier(algorithm='auto', leaf_size=30, metric='minkowski',\n",
              "                     metric_params=None, n_jobs=None, n_neighbors=7, p=2,\n",
              "                     weights='uniform')>"
            ]
          },
          "metadata": {
            "tags": []
          },
          "execution_count": 15
        }
      ]
    },
    {
      "cell_type": "code",
      "metadata": {
        "id": "q4f2ZF_VpORj",
        "colab_type": "code",
        "colab": {
          "base_uri": "https://localhost:8080/",
          "height": 33
        },
        "outputId": "d1fbf252-eb0b-4c80-cae9-c3301d408ede"
      },
      "source": [
        "print(\"Précision de notre modèle sur le jeu de test :\",round(KNN_model.score(X_test,y_test)*100,2),\"%\")"
      ],
      "execution_count": 16,
      "outputs": [
        {
          "output_type": "stream",
          "text": [
            "Précision de notre modèle sur le jeu de test : 96.67 %\n"
          ],
          "name": "stdout"
        }
      ]
    },
    {
      "cell_type": "code",
      "metadata": {
        "id": "fJ2IciMnpsNV",
        "colab_type": "code",
        "colab": {}
      },
      "source": [
        "from sklearn.metrics import classification_report #https://scikit-learn.org/stable/modules/generated/sklearn.metrics.classification_report.html#sklearn.metrics.classification_report\n",
        "from sklearn.metrics import confusion_matrix #https://scikit-learn.org/stable/modules/generated/sklearn.metrics.confusion_matrix.html#sklearn.metrics.confusion_matrix"
      ],
      "execution_count": 17,
      "outputs": []
    },
    {
      "cell_type": "code",
      "metadata": {
        "id": "PNUeFhqErETL",
        "colab_type": "code",
        "colab": {
          "base_uri": "https://localhost:8080/",
          "height": 200
        },
        "outputId": "619562ad-ca37-40a6-8b6c-81115561d0c0"
      },
      "source": [
        "print(\"Taille du jeu de test :\",len(y_test))\n",
        "print(classification_report(y_test, KNN_model.predict(X_test),target_names=dataset_iris.target_names))"
      ],
      "execution_count": 18,
      "outputs": [
        {
          "output_type": "stream",
          "text": [
            "Taille du jeu de test : 30\n",
            "              precision    recall  f1-score   support\n",
            "\n",
            "      setosa       1.00      1.00      1.00         6\n",
            "  versicolor       0.91      1.00      0.95        10\n",
            "   virginica       1.00      0.93      0.96        14\n",
            "\n",
            "    accuracy                           0.97        30\n",
            "   macro avg       0.97      0.98      0.97        30\n",
            "weighted avg       0.97      0.97      0.97        30\n",
            "\n"
          ],
          "name": "stdout"
        }
      ]
    },
    {
      "cell_type": "code",
      "metadata": {
        "id": "UUQ3ROr_nv0v",
        "colab_type": "code",
        "colab": {
          "base_uri": "https://localhost:8080/",
          "height": 33
        },
        "outputId": "ee0f825e-a183-4130-b6ed-fb1590378df5"
      },
      "source": [
        "print(\"La fleur de propriétés [0.0, 0.3, 7.8, 1.1] est de classe :\", KNN_model.predict([[0.0, 0.3, 7.8, 1.1]])[0],\"qui correspond à la classe\", dataset_iris.target_names[KNN_model.predict([[0.0, 0.3, 7.8, 1.1]])[0]])"
      ],
      "execution_count": 19,
      "outputs": [
        {
          "output_type": "stream",
          "text": [
            "La fleur de propriétés [0.0, 0.3, 7.8, 1.1] est de classe : 2 qui correspond à la classe virginica\n"
          ],
          "name": "stdout"
        }
      ]
    },
    {
      "cell_type": "code",
      "metadata": {
        "id": "AFyWj-Gjo94V",
        "colab_type": "code",
        "colab": {
          "base_uri": "https://localhost:8080/",
          "height": 33
        },
        "outputId": "f1f5258a-b681-4c75-9794-119d0b65457a"
      },
      "source": [
        "print(\"La fleur de propriétés [0.0, 0.3, 7.8, 1.1] a des probabilités de classification suivantes :\", KNN_model.predict_proba([[0.0, 0.3, 7.8, 1.1]])[0])"
      ],
      "execution_count": 20,
      "outputs": [
        {
          "output_type": "stream",
          "text": [
            "La fleur de propriétés [0.0, 0.3, 7.8, 1.1] a des probabilités de classification suivantes : [0.         0.28571429 0.71428571]\n"
          ],
          "name": "stdout"
        }
      ]
    },
    {
      "cell_type": "code",
      "metadata": {
        "id": "T-mGd6ebZzey",
        "colab_type": "code",
        "colab": {
          "base_uri": "https://localhost:8080/",
          "height": 83
        },
        "outputId": "4d92a6a2-a933-46d6-944c-e501c3d59cef"
      },
      "source": [
        "from sklearn.neighbors import kneighbors_graph\n",
        "\n",
        "KNN_graph = kneighbors_graph( [[0],[-1],[1],[4]], n_neighbors=2, mode=\"connectivity\")\n",
        "print(KNN_graph.toarray())"
      ],
      "execution_count": 21,
      "outputs": [
        {
          "output_type": "stream",
          "text": [
            "[[0. 1. 1. 0.]\n",
            " [1. 0. 1. 0.]\n",
            " [1. 1. 0. 0.]\n",
            " [1. 0. 1. 0.]]\n"
          ],
          "name": "stdout"
        }
      ]
    },
    {
      "cell_type": "markdown",
      "metadata": {
        "id": "dBEBIX72cDIe",
        "colab_type": "text"
      },
      "source": [
        ""
      ]
    },
    {
      "cell_type": "markdown",
      "metadata": {
        "id": "gI1mrdo0cGcM",
        "colab_type": "text"
      },
      "source": [
        "## Random Forest"
      ]
    },
    {
      "cell_type": "code",
      "metadata": {
        "id": "RgghaIXzcLsA",
        "colab_type": "code",
        "colab": {}
      },
      "source": [
        "from sklearn.ensemble import RandomForestClassifier #https://scikit-learn.org/stable/modules/generated/sklearn.ensemble.RandomForestClassifier.html#sklearn.ensemble.RandomForestClassifier"
      ],
      "execution_count": 22,
      "outputs": []
    },
    {
      "cell_type": "code",
      "metadata": {
        "id": "69iXmWJmcQau",
        "colab_type": "code",
        "colab": {
          "base_uri": "https://localhost:8080/",
          "height": 950
        },
        "outputId": "047b3a3b-6674-4127-fbae-6bacd704ca98"
      },
      "source": [
        "dir(RandomForestClassifier)"
      ],
      "execution_count": 23,
      "outputs": [
        {
          "output_type": "execute_result",
          "data": {
            "text/plain": [
              "['__abstractmethods__',\n",
              " '__class__',\n",
              " '__delattr__',\n",
              " '__dict__',\n",
              " '__dir__',\n",
              " '__doc__',\n",
              " '__eq__',\n",
              " '__format__',\n",
              " '__ge__',\n",
              " '__getattribute__',\n",
              " '__getitem__',\n",
              " '__getstate__',\n",
              " '__gt__',\n",
              " '__hash__',\n",
              " '__init__',\n",
              " '__init_subclass__',\n",
              " '__iter__',\n",
              " '__le__',\n",
              " '__len__',\n",
              " '__lt__',\n",
              " '__module__',\n",
              " '__ne__',\n",
              " '__new__',\n",
              " '__reduce__',\n",
              " '__reduce_ex__',\n",
              " '__repr__',\n",
              " '__setattr__',\n",
              " '__setstate__',\n",
              " '__sizeof__',\n",
              " '__str__',\n",
              " '__subclasshook__',\n",
              " '__weakref__',\n",
              " '_abc_cache',\n",
              " '_abc_negative_cache',\n",
              " '_abc_negative_cache_version',\n",
              " '_abc_registry',\n",
              " '_estimator_type',\n",
              " '_get_param_names',\n",
              " '_get_tags',\n",
              " '_make_estimator',\n",
              " '_more_tags',\n",
              " '_required_parameters',\n",
              " '_set_oob_score',\n",
              " '_validate_X_predict',\n",
              " '_validate_estimator',\n",
              " '_validate_y_class_weight',\n",
              " 'apply',\n",
              " 'decision_path',\n",
              " 'feature_importances_',\n",
              " 'fit',\n",
              " 'get_params',\n",
              " 'predict',\n",
              " 'predict_log_proba',\n",
              " 'predict_proba',\n",
              " 'score',\n",
              " 'set_params']"
            ]
          },
          "metadata": {
            "tags": []
          },
          "execution_count": 23
        }
      ]
    },
    {
      "cell_type": "code",
      "metadata": {
        "id": "o4UiNGO6ckR1",
        "colab_type": "code",
        "colab": {}
      },
      "source": [
        "# Gini est utilisé par les arbres de type CART https://fr.wikipedia.org/wiki/Algorithme_CART \n",
        "RF_model_gini = RandomForestClassifier(n_estimators=20, criterion=\"gini\", random_state= 1001)\n",
        "\n",
        "# Gain est utilisé par les arbres ID3 et C4.5\n",
        "RF_model_gain = RandomForestClassifier(n_estimators=20, criterion=\"entropy\", random_state= 9897)"
      ],
      "execution_count": 24,
      "outputs": []
    },
    {
      "cell_type": "markdown",
      "metadata": {
        "id": "555dkAMifcXZ",
        "colab_type": "text"
      },
      "source": [
        "L'index de Gini ou le gain (aussi appellé entropie) se basent sur l'entropie de Shannon en théorie de l'information\n",
        "\n",
        "Pour vous decider sur quelle arbre choisir:\n",
        "\n",
        "![Types d'arbres de décision](https://qph.fs.quoracdn.net/main-qimg-fd3bd000bb9e904105b73fda2cc028bd-c)\n",
        "\n"
      ]
    },
    {
      "cell_type": "code",
      "metadata": {
        "id": "FLhYaxa-es_2",
        "colab_type": "code",
        "colab": {
          "base_uri": "https://localhost:8080/",
          "height": 316
        },
        "outputId": "c3ccf86d-6894-4ce2-b9a2-4410e8ef1988"
      },
      "source": [
        "print(RF_model_gini.fit(X_train,y_train))\n",
        "print(classification_report(y_test,RF_model_gini.predict(X_test),target_names=dataset_iris.target_names))"
      ],
      "execution_count": 25,
      "outputs": [
        {
          "output_type": "stream",
          "text": [
            "RandomForestClassifier(bootstrap=True, ccp_alpha=0.0, class_weight=None,\n",
            "                       criterion='gini', max_depth=None, max_features='auto',\n",
            "                       max_leaf_nodes=None, max_samples=None,\n",
            "                       min_impurity_decrease=0.0, min_impurity_split=None,\n",
            "                       min_samples_leaf=1, min_samples_split=2,\n",
            "                       min_weight_fraction_leaf=0.0, n_estimators=20,\n",
            "                       n_jobs=None, oob_score=False, random_state=1001,\n",
            "                       verbose=0, warm_start=False)\n",
            "              precision    recall  f1-score   support\n",
            "\n",
            "      setosa       1.00      1.00      1.00         6\n",
            "  versicolor       0.91      1.00      0.95        10\n",
            "   virginica       1.00      0.93      0.96        14\n",
            "\n",
            "    accuracy                           0.97        30\n",
            "   macro avg       0.97      0.98      0.97        30\n",
            "weighted avg       0.97      0.97      0.97        30\n",
            "\n"
          ],
          "name": "stdout"
        }
      ]
    },
    {
      "cell_type": "code",
      "metadata": {
        "id": "xTtl0kmYe16m",
        "colab_type": "code",
        "colab": {
          "base_uri": "https://localhost:8080/",
          "height": 316
        },
        "outputId": "157f90f9-b395-4192-dbdf-2845aff5f780"
      },
      "source": [
        "print(RF_model_gain.fit(X_train,y_train))\n",
        "print(classification_report(y_test,RF_model_gain.predict(X_test),target_names=dataset_iris.target_names))"
      ],
      "execution_count": 26,
      "outputs": [
        {
          "output_type": "stream",
          "text": [
            "RandomForestClassifier(bootstrap=True, ccp_alpha=0.0, class_weight=None,\n",
            "                       criterion='entropy', max_depth=None, max_features='auto',\n",
            "                       max_leaf_nodes=None, max_samples=None,\n",
            "                       min_impurity_decrease=0.0, min_impurity_split=None,\n",
            "                       min_samples_leaf=1, min_samples_split=2,\n",
            "                       min_weight_fraction_leaf=0.0, n_estimators=20,\n",
            "                       n_jobs=None, oob_score=False, random_state=9897,\n",
            "                       verbose=0, warm_start=False)\n",
            "              precision    recall  f1-score   support\n",
            "\n",
            "      setosa       1.00      1.00      1.00         6\n",
            "  versicolor       0.83      1.00      0.91        10\n",
            "   virginica       1.00      0.86      0.92        14\n",
            "\n",
            "    accuracy                           0.93        30\n",
            "   macro avg       0.94      0.95      0.94        30\n",
            "weighted avg       0.94      0.93      0.93        30\n",
            "\n"
          ],
          "name": "stdout"
        }
      ]
    },
    {
      "cell_type": "code",
      "metadata": {
        "id": "e8dYb9gkhFnG",
        "colab_type": "code",
        "colab": {
          "base_uri": "https://localhost:8080/",
          "height": 50
        },
        "outputId": "8dada314-1d96-4898-dd74-1ab0339f0e51"
      },
      "source": [
        "print(\"La fleur de propriétés [0.0, 0.3, 7.8, 1.1] a des probabilités de classification par une foret aléatoire basée avec des arbres basés sur le gain suivantes :\", RF_model_gain.predict_proba([[0.0, 0.3, 7.8, 1.1]])[0])\n",
        "print(\"La fleur de propriétés [0.0, 0.3, 7.8, 1.1] a des probabilités de classification par une foret aléatoire basée avec des arbres basés sur l'index Gini suivantes :\", RF_model_gini.predict_proba([[0.0, 0.3, 7.8, 1.1]])[0])"
      ],
      "execution_count": 27,
      "outputs": [
        {
          "output_type": "stream",
          "text": [
            "La fleur de propriétés [0.0, 0.3, 7.8, 1.1] a des probabilités de classification par une foret aléatoire basée avec des arbres basés sur le gain suivantes : [0.   0.35 0.65]\n",
            "La fleur de propriétés [0.0, 0.3, 7.8, 1.1] a des probabilités de classification par une foret aléatoire basée avec des arbres basés sur l'index Gini suivantes : [0.   0.25 0.75]\n"
          ],
          "name": "stdout"
        }
      ]
    },
    {
      "cell_type": "code",
      "metadata": {
        "id": "rcJOp1O-hvZX",
        "colab_type": "code",
        "colab": {}
      },
      "source": [
        ""
      ],
      "execution_count": 27,
      "outputs": []
    },
    {
      "cell_type": "markdown",
      "metadata": {
        "id": "GJsy-28V8WXG",
        "colab_type": "text"
      },
      "source": [
        "## Regression"
      ]
    },
    {
      "cell_type": "code",
      "metadata": {
        "id": "ODRE845P8Y-_",
        "colab_type": "code",
        "colab": {
          "base_uri": "https://localhost:8080/",
          "height": 197
        },
        "outputId": "cdeb233a-cb48-43a7-a81f-e954a84f809f"
      },
      "source": [
        "dataset_house2rent = pd.read_csv(\"https://raw.githubusercontent.com/Omaroid/Dive-Into-Machine-Learning/master/data/houses_to_rent_v2.csv\") #https://www.kaggle.com/rubenssjr/brasilian-houses-to-rent/data?select=houses_to_rent_v2.csv\n",
        "dataset_house2rent.head()"
      ],
      "execution_count": 28,
      "outputs": [
        {
          "output_type": "execute_result",
          "data": {
            "text/html": [
              "<div>\n",
              "<style scoped>\n",
              "    .dataframe tbody tr th:only-of-type {\n",
              "        vertical-align: middle;\n",
              "    }\n",
              "\n",
              "    .dataframe tbody tr th {\n",
              "        vertical-align: top;\n",
              "    }\n",
              "\n",
              "    .dataframe thead th {\n",
              "        text-align: right;\n",
              "    }\n",
              "</style>\n",
              "<table border=\"1\" class=\"dataframe\">\n",
              "  <thead>\n",
              "    <tr style=\"text-align: right;\">\n",
              "      <th></th>\n",
              "      <th>city</th>\n",
              "      <th>area</th>\n",
              "      <th>rooms</th>\n",
              "      <th>bathroom</th>\n",
              "      <th>parking spaces</th>\n",
              "      <th>floor</th>\n",
              "      <th>animal</th>\n",
              "      <th>furniture</th>\n",
              "      <th>hoa (R$)</th>\n",
              "      <th>rent amount (R$)</th>\n",
              "      <th>property tax (R$)</th>\n",
              "      <th>fire insurance (R$)</th>\n",
              "      <th>total (R$)</th>\n",
              "    </tr>\n",
              "  </thead>\n",
              "  <tbody>\n",
              "    <tr>\n",
              "      <th>0</th>\n",
              "      <td>São Paulo</td>\n",
              "      <td>70</td>\n",
              "      <td>2</td>\n",
              "      <td>1</td>\n",
              "      <td>1</td>\n",
              "      <td>7</td>\n",
              "      <td>acept</td>\n",
              "      <td>furnished</td>\n",
              "      <td>2065</td>\n",
              "      <td>3300</td>\n",
              "      <td>211</td>\n",
              "      <td>42</td>\n",
              "      <td>5618</td>\n",
              "    </tr>\n",
              "    <tr>\n",
              "      <th>1</th>\n",
              "      <td>São Paulo</td>\n",
              "      <td>320</td>\n",
              "      <td>4</td>\n",
              "      <td>4</td>\n",
              "      <td>0</td>\n",
              "      <td>20</td>\n",
              "      <td>acept</td>\n",
              "      <td>not furnished</td>\n",
              "      <td>1200</td>\n",
              "      <td>4960</td>\n",
              "      <td>1750</td>\n",
              "      <td>63</td>\n",
              "      <td>7973</td>\n",
              "    </tr>\n",
              "    <tr>\n",
              "      <th>2</th>\n",
              "      <td>Porto Alegre</td>\n",
              "      <td>80</td>\n",
              "      <td>1</td>\n",
              "      <td>1</td>\n",
              "      <td>1</td>\n",
              "      <td>6</td>\n",
              "      <td>acept</td>\n",
              "      <td>not furnished</td>\n",
              "      <td>1000</td>\n",
              "      <td>2800</td>\n",
              "      <td>0</td>\n",
              "      <td>41</td>\n",
              "      <td>3841</td>\n",
              "    </tr>\n",
              "    <tr>\n",
              "      <th>3</th>\n",
              "      <td>Porto Alegre</td>\n",
              "      <td>51</td>\n",
              "      <td>2</td>\n",
              "      <td>1</td>\n",
              "      <td>0</td>\n",
              "      <td>2</td>\n",
              "      <td>acept</td>\n",
              "      <td>not furnished</td>\n",
              "      <td>270</td>\n",
              "      <td>1112</td>\n",
              "      <td>22</td>\n",
              "      <td>17</td>\n",
              "      <td>1421</td>\n",
              "    </tr>\n",
              "    <tr>\n",
              "      <th>4</th>\n",
              "      <td>São Paulo</td>\n",
              "      <td>25</td>\n",
              "      <td>1</td>\n",
              "      <td>1</td>\n",
              "      <td>0</td>\n",
              "      <td>1</td>\n",
              "      <td>not acept</td>\n",
              "      <td>not furnished</td>\n",
              "      <td>0</td>\n",
              "      <td>800</td>\n",
              "      <td>25</td>\n",
              "      <td>11</td>\n",
              "      <td>836</td>\n",
              "    </tr>\n",
              "  </tbody>\n",
              "</table>\n",
              "</div>"
            ],
            "text/plain": [
              "           city  area  ...  fire insurance (R$)  total (R$)\n",
              "0     São Paulo    70  ...                   42        5618\n",
              "1     São Paulo   320  ...                   63        7973\n",
              "2  Porto Alegre    80  ...                   41        3841\n",
              "3  Porto Alegre    51  ...                   17        1421\n",
              "4     São Paulo    25  ...                   11         836\n",
              "\n",
              "[5 rows x 13 columns]"
            ]
          },
          "metadata": {
            "tags": []
          },
          "execution_count": 28
        }
      ]
    },
    {
      "cell_type": "code",
      "metadata": {
        "id": "JbjPdxIpPtdt",
        "colab_type": "code",
        "colab": {
          "base_uri": "https://localhost:8080/",
          "height": 350
        },
        "outputId": "f57268d9-89c0-4902-e236-e8b277cf248a"
      },
      "source": [
        "dataset_house2rent.info()"
      ],
      "execution_count": 29,
      "outputs": [
        {
          "output_type": "stream",
          "text": [
            "<class 'pandas.core.frame.DataFrame'>\n",
            "RangeIndex: 10692 entries, 0 to 10691\n",
            "Data columns (total 13 columns):\n",
            " #   Column               Non-Null Count  Dtype \n",
            "---  ------               --------------  ----- \n",
            " 0   city                 10692 non-null  object\n",
            " 1   area                 10692 non-null  int64 \n",
            " 2   rooms                10692 non-null  int64 \n",
            " 3   bathroom             10692 non-null  int64 \n",
            " 4   parking spaces       10692 non-null  int64 \n",
            " 5   floor                10692 non-null  object\n",
            " 6   animal               10692 non-null  object\n",
            " 7   furniture            10692 non-null  object\n",
            " 8   hoa (R$)             10692 non-null  int64 \n",
            " 9   rent amount (R$)     10692 non-null  int64 \n",
            " 10  property tax (R$)    10692 non-null  int64 \n",
            " 11  fire insurance (R$)  10692 non-null  int64 \n",
            " 12  total (R$)           10692 non-null  int64 \n",
            "dtypes: int64(9), object(4)\n",
            "memory usage: 1.1+ MB\n"
          ],
          "name": "stdout"
        }
      ]
    },
    {
      "cell_type": "code",
      "metadata": {
        "id": "zvwkip5KLMYA",
        "colab_type": "code",
        "colab": {}
      },
      "source": [
        "from sklearn.preprocessing import LabelEncoder"
      ],
      "execution_count": 30,
      "outputs": []
    },
    {
      "cell_type": "code",
      "metadata": {
        "id": "sE4NHXaMMKOy",
        "colab_type": "code",
        "colab": {
          "base_uri": "https://localhost:8080/",
          "height": 33
        },
        "outputId": "620f8c8a-1c9c-4169-e8d4-01ec6e384554"
      },
      "source": [
        "le_city = LabelEncoder()\n",
        "le_city.fit(dataset_house2rent[\"city\"])"
      ],
      "execution_count": 31,
      "outputs": [
        {
          "output_type": "execute_result",
          "data": {
            "text/plain": [
              "LabelEncoder()"
            ]
          },
          "metadata": {
            "tags": []
          },
          "execution_count": 31
        }
      ]
    },
    {
      "cell_type": "code",
      "metadata": {
        "id": "jTybsK1WMaGZ",
        "colab_type": "code",
        "colab": {
          "base_uri": "https://localhost:8080/",
          "height": 33
        },
        "outputId": "ac3d9554-3796-4411-b835-452013eb8696"
      },
      "source": [
        "list(le_city.classes_)"
      ],
      "execution_count": 32,
      "outputs": [
        {
          "output_type": "execute_result",
          "data": {
            "text/plain": [
              "['Belo Horizonte', 'Campinas', 'Porto Alegre', 'Rio de Janeiro', 'São Paulo']"
            ]
          },
          "metadata": {
            "tags": []
          },
          "execution_count": 32
        }
      ]
    },
    {
      "cell_type": "code",
      "metadata": {
        "id": "fyXIIZa1Md5Q",
        "colab_type": "code",
        "colab": {
          "base_uri": "https://localhost:8080/",
          "height": 33
        },
        "outputId": "b4f3398c-405c-4b9f-be1c-ca452b28b2d7"
      },
      "source": [
        "le_city.transform(dataset_house2rent[\"city\"])"
      ],
      "execution_count": 33,
      "outputs": [
        {
          "output_type": "execute_result",
          "data": {
            "text/plain": [
              "array([4, 4, 2, ..., 3, 3, 4])"
            ]
          },
          "metadata": {
            "tags": []
          },
          "execution_count": 33
        }
      ]
    },
    {
      "cell_type": "code",
      "metadata": {
        "id": "58W0UfovMnNN",
        "colab_type": "code",
        "colab": {}
      },
      "source": [
        "dataset_house2rent[\"city\"] = le_city.transform(dataset_house2rent[\"city\"])"
      ],
      "execution_count": 34,
      "outputs": []
    },
    {
      "cell_type": "code",
      "metadata": {
        "id": "gvJDz5idMw2_",
        "colab_type": "code",
        "colab": {
          "base_uri": "https://localhost:8080/",
          "height": 50
        },
        "outputId": "17e179e3-897b-435f-a9fe-599cfb68ebed"
      },
      "source": [
        "# Pour animal\n",
        "le_animal= LabelEncoder()\n",
        "le_animal.fit(dataset_house2rent[\"animal\"])\n",
        "print(\"Classes de notre LabelEncoder sur la colonnes 'animal':\",list(le_animal.classes_))\n",
        "le_animal.transform(dataset_house2rent[\"animal\"])\n",
        "dataset_house2rent[\"animal\"] = le_animal.transform(dataset_house2rent[\"animal\"])\n",
        "\n",
        "# Pour furniture\n",
        "le_furniture= LabelEncoder()\n",
        "le_furniture.fit(dataset_house2rent[\"furniture\"])\n",
        "print(\"Classes de notre LabelEncoder sur la colonnes 'furniture':\",list(le_furniture.classes_))\n",
        "le_furniture.transform(dataset_house2rent[\"furniture\"])\n",
        "dataset_house2rent[\"furniture\"] = le_furniture.transform(dataset_house2rent[\"furniture\"])"
      ],
      "execution_count": 35,
      "outputs": [
        {
          "output_type": "stream",
          "text": [
            "Classes de notre LabelEncoder sur la colonnes 'animal': ['acept', 'not acept']\n",
            "Classes de notre LabelEncoder sur la colonnes 'furniture': ['furnished', 'not furnished']\n"
          ],
          "name": "stdout"
        }
      ]
    },
    {
      "cell_type": "code",
      "metadata": {
        "id": "qERgwIlmN2IP",
        "colab_type": "code",
        "colab": {
          "base_uri": "https://localhost:8080/",
          "height": 350
        },
        "outputId": "701ea807-fbb4-4048-d90b-0b7e1bd82f88"
      },
      "source": [
        "dataset_house2rent.info()"
      ],
      "execution_count": 36,
      "outputs": [
        {
          "output_type": "stream",
          "text": [
            "<class 'pandas.core.frame.DataFrame'>\n",
            "RangeIndex: 10692 entries, 0 to 10691\n",
            "Data columns (total 13 columns):\n",
            " #   Column               Non-Null Count  Dtype \n",
            "---  ------               --------------  ----- \n",
            " 0   city                 10692 non-null  int64 \n",
            " 1   area                 10692 non-null  int64 \n",
            " 2   rooms                10692 non-null  int64 \n",
            " 3   bathroom             10692 non-null  int64 \n",
            " 4   parking spaces       10692 non-null  int64 \n",
            " 5   floor                10692 non-null  object\n",
            " 6   animal               10692 non-null  int64 \n",
            " 7   furniture            10692 non-null  int64 \n",
            " 8   hoa (R$)             10692 non-null  int64 \n",
            " 9   rent amount (R$)     10692 non-null  int64 \n",
            " 10  property tax (R$)    10692 non-null  int64 \n",
            " 11  fire insurance (R$)  10692 non-null  int64 \n",
            " 12  total (R$)           10692 non-null  int64 \n",
            "dtypes: int64(12), object(1)\n",
            "memory usage: 1.1+ MB\n"
          ],
          "name": "stdout"
        }
      ]
    },
    {
      "cell_type": "code",
      "metadata": {
        "id": "mybBXQgtQM-M",
        "colab_type": "code",
        "colab": {
          "base_uri": "https://localhost:8080/",
          "height": 83
        },
        "outputId": "4ed9b2a5-5ad0-4b3d-bc95-c97fb8ae0bca"
      },
      "source": [
        "dataset_house2rent.floor.unique()"
      ],
      "execution_count": 37,
      "outputs": [
        {
          "output_type": "execute_result",
          "data": {
            "text/plain": [
              "array(['7', '20', '6', '2', '1', '-', '4', '3', '10', '11', '24', '9',\n",
              "       '8', '17', '18', '5', '13', '15', '16', '14', '26', '12', '21',\n",
              "       '19', '22', '27', '23', '35', '25', '46', '28', '29', '301', '51',\n",
              "       '32'], dtype=object)"
            ]
          },
          "metadata": {
            "tags": []
          },
          "execution_count": 37
        }
      ]
    },
    {
      "cell_type": "code",
      "metadata": {
        "id": "OHwtUXvzQnc8",
        "colab_type": "code",
        "colab": {
          "base_uri": "https://localhost:8080/",
          "height": 83
        },
        "outputId": "8fe48db8-1d25-47d8-a5da-331c1cf7fbcf"
      },
      "source": [
        "dataset_house2rent = dataset_house2rent[dataset_house2rent[\"floor\"] != \"-\"]\n",
        "dataset_house2rent.floor.unique()"
      ],
      "execution_count": 38,
      "outputs": [
        {
          "output_type": "execute_result",
          "data": {
            "text/plain": [
              "array(['7', '20', '6', '2', '1', '4', '3', '10', '11', '24', '9', '8',\n",
              "       '17', '18', '5', '13', '15', '16', '14', '26', '12', '21', '19',\n",
              "       '22', '27', '23', '35', '25', '46', '28', '29', '301', '51', '32'],\n",
              "      dtype=object)"
            ]
          },
          "metadata": {
            "tags": []
          },
          "execution_count": 38
        }
      ]
    },
    {
      "cell_type": "code",
      "metadata": {
        "id": "WC79ZRBsQPeg",
        "colab_type": "code",
        "colab": {}
      },
      "source": [
        "dataset_house2rent[\"floor\"] = pd.to_numeric(dataset_house2rent['floor'])"
      ],
      "execution_count": 39,
      "outputs": []
    },
    {
      "cell_type": "code",
      "metadata": {
        "id": "cqzBVELJRDay",
        "colab_type": "code",
        "colab": {
          "base_uri": "https://localhost:8080/",
          "height": 347
        },
        "outputId": "4f5e5e35-1b91-48da-c383-97f32c11e583"
      },
      "source": [
        "dataset_house2rent.head(10)"
      ],
      "execution_count": 40,
      "outputs": [
        {
          "output_type": "execute_result",
          "data": {
            "text/html": [
              "<div>\n",
              "<style scoped>\n",
              "    .dataframe tbody tr th:only-of-type {\n",
              "        vertical-align: middle;\n",
              "    }\n",
              "\n",
              "    .dataframe tbody tr th {\n",
              "        vertical-align: top;\n",
              "    }\n",
              "\n",
              "    .dataframe thead th {\n",
              "        text-align: right;\n",
              "    }\n",
              "</style>\n",
              "<table border=\"1\" class=\"dataframe\">\n",
              "  <thead>\n",
              "    <tr style=\"text-align: right;\">\n",
              "      <th></th>\n",
              "      <th>city</th>\n",
              "      <th>area</th>\n",
              "      <th>rooms</th>\n",
              "      <th>bathroom</th>\n",
              "      <th>parking spaces</th>\n",
              "      <th>floor</th>\n",
              "      <th>animal</th>\n",
              "      <th>furniture</th>\n",
              "      <th>hoa (R$)</th>\n",
              "      <th>rent amount (R$)</th>\n",
              "      <th>property tax (R$)</th>\n",
              "      <th>fire insurance (R$)</th>\n",
              "      <th>total (R$)</th>\n",
              "    </tr>\n",
              "  </thead>\n",
              "  <tbody>\n",
              "    <tr>\n",
              "      <th>0</th>\n",
              "      <td>4</td>\n",
              "      <td>70</td>\n",
              "      <td>2</td>\n",
              "      <td>1</td>\n",
              "      <td>1</td>\n",
              "      <td>7</td>\n",
              "      <td>0</td>\n",
              "      <td>0</td>\n",
              "      <td>2065</td>\n",
              "      <td>3300</td>\n",
              "      <td>211</td>\n",
              "      <td>42</td>\n",
              "      <td>5618</td>\n",
              "    </tr>\n",
              "    <tr>\n",
              "      <th>1</th>\n",
              "      <td>4</td>\n",
              "      <td>320</td>\n",
              "      <td>4</td>\n",
              "      <td>4</td>\n",
              "      <td>0</td>\n",
              "      <td>20</td>\n",
              "      <td>0</td>\n",
              "      <td>1</td>\n",
              "      <td>1200</td>\n",
              "      <td>4960</td>\n",
              "      <td>1750</td>\n",
              "      <td>63</td>\n",
              "      <td>7973</td>\n",
              "    </tr>\n",
              "    <tr>\n",
              "      <th>2</th>\n",
              "      <td>2</td>\n",
              "      <td>80</td>\n",
              "      <td>1</td>\n",
              "      <td>1</td>\n",
              "      <td>1</td>\n",
              "      <td>6</td>\n",
              "      <td>0</td>\n",
              "      <td>1</td>\n",
              "      <td>1000</td>\n",
              "      <td>2800</td>\n",
              "      <td>0</td>\n",
              "      <td>41</td>\n",
              "      <td>3841</td>\n",
              "    </tr>\n",
              "    <tr>\n",
              "      <th>3</th>\n",
              "      <td>2</td>\n",
              "      <td>51</td>\n",
              "      <td>2</td>\n",
              "      <td>1</td>\n",
              "      <td>0</td>\n",
              "      <td>2</td>\n",
              "      <td>0</td>\n",
              "      <td>1</td>\n",
              "      <td>270</td>\n",
              "      <td>1112</td>\n",
              "      <td>22</td>\n",
              "      <td>17</td>\n",
              "      <td>1421</td>\n",
              "    </tr>\n",
              "    <tr>\n",
              "      <th>4</th>\n",
              "      <td>4</td>\n",
              "      <td>25</td>\n",
              "      <td>1</td>\n",
              "      <td>1</td>\n",
              "      <td>0</td>\n",
              "      <td>1</td>\n",
              "      <td>1</td>\n",
              "      <td>1</td>\n",
              "      <td>0</td>\n",
              "      <td>800</td>\n",
              "      <td>25</td>\n",
              "      <td>11</td>\n",
              "      <td>836</td>\n",
              "    </tr>\n",
              "    <tr>\n",
              "      <th>6</th>\n",
              "      <td>3</td>\n",
              "      <td>72</td>\n",
              "      <td>2</td>\n",
              "      <td>1</td>\n",
              "      <td>0</td>\n",
              "      <td>7</td>\n",
              "      <td>0</td>\n",
              "      <td>1</td>\n",
              "      <td>740</td>\n",
              "      <td>1900</td>\n",
              "      <td>85</td>\n",
              "      <td>25</td>\n",
              "      <td>2750</td>\n",
              "    </tr>\n",
              "    <tr>\n",
              "      <th>7</th>\n",
              "      <td>4</td>\n",
              "      <td>213</td>\n",
              "      <td>4</td>\n",
              "      <td>4</td>\n",
              "      <td>4</td>\n",
              "      <td>4</td>\n",
              "      <td>0</td>\n",
              "      <td>1</td>\n",
              "      <td>2254</td>\n",
              "      <td>3223</td>\n",
              "      <td>1735</td>\n",
              "      <td>41</td>\n",
              "      <td>7253</td>\n",
              "    </tr>\n",
              "    <tr>\n",
              "      <th>8</th>\n",
              "      <td>4</td>\n",
              "      <td>152</td>\n",
              "      <td>2</td>\n",
              "      <td>2</td>\n",
              "      <td>1</td>\n",
              "      <td>3</td>\n",
              "      <td>0</td>\n",
              "      <td>0</td>\n",
              "      <td>1000</td>\n",
              "      <td>15000</td>\n",
              "      <td>250</td>\n",
              "      <td>191</td>\n",
              "      <td>16440</td>\n",
              "    </tr>\n",
              "    <tr>\n",
              "      <th>9</th>\n",
              "      <td>3</td>\n",
              "      <td>35</td>\n",
              "      <td>1</td>\n",
              "      <td>1</td>\n",
              "      <td>0</td>\n",
              "      <td>2</td>\n",
              "      <td>0</td>\n",
              "      <td>0</td>\n",
              "      <td>590</td>\n",
              "      <td>2300</td>\n",
              "      <td>35</td>\n",
              "      <td>30</td>\n",
              "      <td>2955</td>\n",
              "    </tr>\n",
              "    <tr>\n",
              "      <th>10</th>\n",
              "      <td>4</td>\n",
              "      <td>26</td>\n",
              "      <td>1</td>\n",
              "      <td>1</td>\n",
              "      <td>0</td>\n",
              "      <td>2</td>\n",
              "      <td>0</td>\n",
              "      <td>0</td>\n",
              "      <td>470</td>\n",
              "      <td>2100</td>\n",
              "      <td>150</td>\n",
              "      <td>27</td>\n",
              "      <td>2747</td>\n",
              "    </tr>\n",
              "  </tbody>\n",
              "</table>\n",
              "</div>"
            ],
            "text/plain": [
              "    city  area  rooms  ...  property tax (R$)  fire insurance (R$)  total (R$)\n",
              "0      4    70      2  ...                211                   42        5618\n",
              "1      4   320      4  ...               1750                   63        7973\n",
              "2      2    80      1  ...                  0                   41        3841\n",
              "3      2    51      2  ...                 22                   17        1421\n",
              "4      4    25      1  ...                 25                   11         836\n",
              "6      3    72      2  ...                 85                   25        2750\n",
              "7      4   213      4  ...               1735                   41        7253\n",
              "8      4   152      2  ...                250                  191       16440\n",
              "9      3    35      1  ...                 35                   30        2955\n",
              "10     4    26      1  ...                150                   27        2747\n",
              "\n",
              "[10 rows x 13 columns]"
            ]
          },
          "metadata": {
            "tags": []
          },
          "execution_count": 40
        }
      ]
    },
    {
      "cell_type": "code",
      "metadata": {
        "id": "JurJ7mJoRHG2",
        "colab_type": "code",
        "colab": {}
      },
      "source": [
        "X_train, X_test, y_train, y_test  = train_test_split(dataset_house2rent.iloc[:,:-1], dataset_house2rent.iloc[:,-1:], test_size=0.2, random_state=3000)"
      ],
      "execution_count": 41,
      "outputs": []
    },
    {
      "cell_type": "code",
      "metadata": {
        "id": "O2244VoNRTdQ",
        "colab_type": "code",
        "colab": {}
      },
      "source": [
        "from sklearn.linear_model import LinearRegression"
      ],
      "execution_count": 42,
      "outputs": []
    },
    {
      "cell_type": "code",
      "metadata": {
        "id": "PchTbUPkSmNc",
        "colab_type": "code",
        "colab": {}
      },
      "source": [
        "LR_model = LinearRegression() "
      ],
      "execution_count": 43,
      "outputs": []
    },
    {
      "cell_type": "code",
      "metadata": {
        "id": "ireiJHHAS4un",
        "colab_type": "code",
        "colab": {
          "base_uri": "https://localhost:8080/",
          "height": 50
        },
        "outputId": "11910dbb-a74d-408b-ec83-ebb33d83aee4"
      },
      "source": [
        "LR_model.fit(X_train,y_train)\n",
        "print(len(X_train))\n",
        "print(len(y_train))"
      ],
      "execution_count": 44,
      "outputs": [
        {
          "output_type": "stream",
          "text": [
            "6584\n",
            "6584\n"
          ],
          "name": "stdout"
        }
      ]
    },
    {
      "cell_type": "code",
      "metadata": {
        "id": "fHqXf-dATIAc",
        "colab_type": "code",
        "colab": {
          "base_uri": "https://localhost:8080/",
          "height": 33
        },
        "outputId": "a98c1cb5-e160-4e11-b63e-77dd7fbf0bd1"
      },
      "source": [
        "print(\"Précision de notre modèle sur le jeu de test :\",round(LR_model.score(X_test,y_test)*100,2),\"%\")"
      ],
      "execution_count": 45,
      "outputs": [
        {
          "output_type": "stream",
          "text": [
            "Précision de notre modèle sur le jeu de test : 100.0 %\n"
          ],
          "name": "stdout"
        }
      ]
    },
    {
      "cell_type": "code",
      "metadata": {
        "id": "iKeXQt6ZTsMn",
        "colab_type": "code",
        "colab": {
          "base_uri": "https://localhost:8080/",
          "height": 33
        },
        "outputId": "64f8480f-4418-46f5-c34f-e557efb02d0c"
      },
      "source": [
        "LR_model.get_params()"
      ],
      "execution_count": 46,
      "outputs": [
        {
          "output_type": "execute_result",
          "data": {
            "text/plain": [
              "{'copy_X': True, 'fit_intercept': True, 'n_jobs': None, 'normalize': False}"
            ]
          },
          "metadata": {
            "tags": []
          },
          "execution_count": 46
        }
      ]
    },
    {
      "cell_type": "code",
      "metadata": {
        "id": "fjKy3z2XUWAN",
        "colab_type": "code",
        "colab": {}
      },
      "source": [
        "from matplotlib import pyplot as plt"
      ],
      "execution_count": 47,
      "outputs": []
    },
    {
      "cell_type": "code",
      "metadata": {
        "id": "YvMS3SpSTYqa",
        "colab_type": "code",
        "colab": {
          "base_uri": "https://localhost:8080/",
          "height": 292
        },
        "outputId": "399c8cad-4e4c-41b8-8ecc-2d233acddc14"
      },
      "source": [
        "plt.scatter(X_train['rent amount (R$)'],y_train,color='g')\n",
        "plt.plot(y_test, LR_model.predict(X_test),color='k')"
      ],
      "execution_count": 48,
      "outputs": [
        {
          "output_type": "execute_result",
          "data": {
            "text/plain": [
              "[<matplotlib.lines.Line2D at 0x7f2f288e09b0>]"
            ]
          },
          "metadata": {
            "tags": []
          },
          "execution_count": 48
        },
        {
          "output_type": "display_data",
          "data": {
            "image/png": "[encoded data removed]",
            "text/plain": [
              "<Figure size 432x288 with 1 Axes>"
            ]
          },
          "metadata": {
            "tags": [],
            "needs_background": "light"
          }
        }
      ]
    },
    {
      "cell_type": "code",
      "metadata": {
        "id": "01N52a1dXKN-",
        "colab_type": "code",
        "colab": {
          "base_uri": "https://localhost:8080/",
          "height": 292
        },
        "outputId": "62bad9a9-2f37-443e-d899-572bf69ca3bb"
      },
      "source": [
        "plt.scatter(X_train['property tax (R$)'],y_train,color='g')\n",
        "plt.plot(y_test, LR_model.predict(X_test),color='k')"
      ],
      "execution_count": 49,
      "outputs": [
        {
          "output_type": "execute_result",
          "data": {
            "text/plain": [
              "[<matplotlib.lines.Line2D at 0x7f2f26023cf8>]"
            ]
          },
          "metadata": {
            "tags": []
          },
          "execution_count": 49
        },
        {
          "output_type": "display_data",
          "data": {
            "image/png": "[encoded data removed]",
            "text/plain": [
              "<Figure size 432x288 with 1 Axes>"
            ]
          },
          "metadata": {
            "tags": [],
            "needs_background": "light"
          }
        }
      ]
    },
    {
      "cell_type": "markdown",
      "metadata": {
        "id": "GwhlBGJuiTKb",
        "colab_type": "text"
      },
      "source": [
        "## Clustering\n"
      ]
    },
    {
      "cell_type": "markdown",
      "metadata": {
        "id": "SCZIld99ibKJ",
        "colab_type": "text"
      },
      "source": [
        "## K-means\n"
      ]
    },
    {
      "cell_type": "code",
      "metadata": {
        "id": "6cshv8qViU-N",
        "colab_type": "code",
        "colab": {}
      },
      "source": [
        "from sklearn.cluster import KMeans"
      ],
      "execution_count": 50,
      "outputs": []
    },
    {
      "cell_type": "code",
      "metadata": {
        "id": "UqxyARjdioX0",
        "colab_type": "code",
        "colab": {}
      },
      "source": [
        "KM_model = KMeans(n_clusters=2)"
      ],
      "execution_count": 51,
      "outputs": []
    },
    {
      "cell_type": "markdown",
      "metadata": {
        "id": "QwD3J74iu0oU",
        "colab_type": "text"
      },
      "source": [
        "# Reduction de dimention"
      ]
    },
    {
      "cell_type": "code",
      "metadata": {
        "id": "jQfv_7wau3RD",
        "colab_type": "code",
        "colab": {}
      },
      "source": [
        "X=dataset_iris.data\n",
        "y=dataset_iris.target"
      ],
      "execution_count": 74,
      "outputs": []
    },
    {
      "cell_type": "code",
      "metadata": {
        "id": "IO0R62JAvx7P",
        "colab_type": "code",
        "colab": {
          "base_uri": "https://localhost:8080/",
          "height": 100
        },
        "outputId": "42878c6f-b8e5-4563-a1b5-db46af92419f"
      },
      "source": [
        "print(X[0:5,])"
      ],
      "execution_count": 53,
      "outputs": [
        {
          "output_type": "stream",
          "text": [
            "[[5.1 3.5 1.4 0.2]\n",
            " [4.9 3.  1.4 0.2]\n",
            " [4.7 3.2 1.3 0.2]\n",
            " [4.6 3.1 1.5 0.2]\n",
            " [5.  3.6 1.4 0.2]]\n"
          ],
          "name": "stdout"
        }
      ]
    },
    {
      "cell_type": "code",
      "metadata": {
        "id": "Xm20Z3ZLvZNC",
        "colab_type": "code",
        "colab": {}
      },
      "source": [
        "from sklearn.preprocessing import StandardScaler #https://scikit-learn.org/stable/modules/generated/sklearn.preprocessing.StandardScaler.html#sklearn.preprocessing.StandardScaler"
      ],
      "execution_count": 54,
      "outputs": []
    },
    {
      "cell_type": "code",
      "metadata": {
        "id": "ZrPuX4RcvjZT",
        "colab_type": "code",
        "colab": {
          "base_uri": "https://localhost:8080/",
          "height": 33
        },
        "outputId": "9abf0a7a-9c2d-4da5-9d0b-7b6bcd7787ad"
      },
      "source": [
        "SS = StandardScaler()\n",
        "SS.fit(X)"
      ],
      "execution_count": 75,
      "outputs": [
        {
          "output_type": "execute_result",
          "data": {
            "text/plain": [
              "StandardScaler(copy=True, with_mean=True, with_std=True)"
            ]
          },
          "metadata": {
            "tags": []
          },
          "execution_count": 75
        }
      ]
    },
    {
      "cell_type": "code",
      "metadata": {
        "id": "6iCiGM1Nvws4",
        "colab_type": "code",
        "colab": {
          "base_uri": "https://localhost:8080/",
          "height": 33
        },
        "outputId": "4e6d5c7b-8688-43bd-fe75-226bb59a70e1"
      },
      "source": [
        "print(SS.mean_)"
      ],
      "execution_count": 56,
      "outputs": [
        {
          "output_type": "stream",
          "text": [
            "[5.84333333 3.05733333 3.758      1.19933333]\n"
          ],
          "name": "stdout"
        }
      ]
    },
    {
      "cell_type": "code",
      "metadata": {
        "id": "D-Rekf41wgrn",
        "colab_type": "code",
        "colab": {
          "base_uri": "https://localhost:8080/",
          "height": 33
        },
        "outputId": "8c557352-8c05-43f4-ad31-c60fc18aa185"
      },
      "source": [
        "print(SS.var_)"
      ],
      "execution_count": 57,
      "outputs": [
        {
          "output_type": "stream",
          "text": [
            "[0.68112222 0.18871289 3.09550267 0.57713289]\n"
          ],
          "name": "stdout"
        }
      ]
    },
    {
      "cell_type": "code",
      "metadata": {
        "id": "9QrfKfDyw_mm",
        "colab_type": "code",
        "colab": {}
      },
      "source": [
        "X = SS.transform(X)"
      ],
      "execution_count": 76,
      "outputs": []
    },
    {
      "cell_type": "markdown",
      "metadata": {
        "id": "LM2ZVBOqxsfE",
        "colab_type": "text"
      },
      "source": [
        "**transform** remplace chaque element par sa valeur centrée reduite correspondante"
      ]
    },
    {
      "cell_type": "code",
      "metadata": {
        "id": "-rKXTJ21xV3e",
        "colab_type": "code",
        "colab": {
          "base_uri": "https://localhost:8080/",
          "height": 100
        },
        "outputId": "9e982fd1-8bb0-41dc-c174-78f2f7a4a53a"
      },
      "source": [
        "print(X[0:5,])"
      ],
      "execution_count": 59,
      "outputs": [
        {
          "output_type": "stream",
          "text": [
            "[[-0.90068117  1.01900435 -1.34022653 -1.3154443 ]\n",
            " [-1.14301691 -0.13197948 -1.34022653 -1.3154443 ]\n",
            " [-1.38535265  0.32841405 -1.39706395 -1.3154443 ]\n",
            " [-1.50652052  0.09821729 -1.2833891  -1.3154443 ]\n",
            " [-1.02184904  1.24920112 -1.34022653 -1.3154443 ]]\n"
          ],
          "name": "stdout"
        }
      ]
    },
    {
      "cell_type": "code",
      "metadata": {
        "id": "Ch4TSoeEx55M",
        "colab_type": "code",
        "colab": {}
      },
      "source": [
        "from sklearn.decomposition import PCA"
      ],
      "execution_count": 60,
      "outputs": []
    },
    {
      "cell_type": "code",
      "metadata": {
        "id": "nym1RQetx6pe",
        "colab_type": "code",
        "colab": {}
      },
      "source": [
        "PCA_model = PCA(n_components=2)"
      ],
      "execution_count": 77,
      "outputs": []
    },
    {
      "cell_type": "code",
      "metadata": {
        "id": "Qcj0nA_Vx-t0",
        "colab_type": "code",
        "colab": {}
      },
      "source": [
        "PCA_principalComponents = PCA_model.fit_transform(X)"
      ],
      "execution_count": 78,
      "outputs": []
    },
    {
      "cell_type": "code",
      "metadata": {
        "id": "WvWVaJtKyEaS",
        "colab_type": "code",
        "colab": {}
      },
      "source": [
        "PCA_dataset = pd.DataFrame(data = PCA_principalComponents, columns = ['Composante principale 1', 'Composante principale 2'])"
      ],
      "execution_count": 79,
      "outputs": []
    },
    {
      "cell_type": "code",
      "metadata": {
        "id": "4oICt1aUyRtW",
        "colab_type": "code",
        "colab": {}
      },
      "source": [
        "y = pd.DataFrame(y, columns=[\"y\"])\n",
        "PCA_final = pd.concat([PCA_dataset, y], axis = 1)"
      ],
      "execution_count": 64,
      "outputs": []
    },
    {
      "cell_type": "code",
      "metadata": {
        "id": "wYvtuyH4zNUf",
        "colab_type": "code",
        "colab": {
          "base_uri": "https://localhost:8080/",
          "height": 197
        },
        "outputId": "bba126aa-07cf-4ba0-93f2-285dc50ad5ef"
      },
      "source": [
        "PCA_final.head()"
      ],
      "execution_count": 65,
      "outputs": [
        {
          "output_type": "execute_result",
          "data": {
            "text/html": [
              "<div>\n",
              "<style scoped>\n",
              "    .dataframe tbody tr th:only-of-type {\n",
              "        vertical-align: middle;\n",
              "    }\n",
              "\n",
              "    .dataframe tbody tr th {\n",
              "        vertical-align: top;\n",
              "    }\n",
              "\n",
              "    .dataframe thead th {\n",
              "        text-align: right;\n",
              "    }\n",
              "</style>\n",
              "<table border=\"1\" class=\"dataframe\">\n",
              "  <thead>\n",
              "    <tr style=\"text-align: right;\">\n",
              "      <th></th>\n",
              "      <th>Composante principale 1</th>\n",
              "      <th>Composante principale 2</th>\n",
              "      <th>y</th>\n",
              "    </tr>\n",
              "  </thead>\n",
              "  <tbody>\n",
              "    <tr>\n",
              "      <th>0</th>\n",
              "      <td>-2.264703</td>\n",
              "      <td>0.480027</td>\n",
              "      <td>0</td>\n",
              "    </tr>\n",
              "    <tr>\n",
              "      <th>1</th>\n",
              "      <td>-2.080961</td>\n",
              "      <td>-0.674134</td>\n",
              "      <td>0</td>\n",
              "    </tr>\n",
              "    <tr>\n",
              "      <th>2</th>\n",
              "      <td>-2.364229</td>\n",
              "      <td>-0.341908</td>\n",
              "      <td>0</td>\n",
              "    </tr>\n",
              "    <tr>\n",
              "      <th>3</th>\n",
              "      <td>-2.299384</td>\n",
              "      <td>-0.597395</td>\n",
              "      <td>0</td>\n",
              "    </tr>\n",
              "    <tr>\n",
              "      <th>4</th>\n",
              "      <td>-2.389842</td>\n",
              "      <td>0.646835</td>\n",
              "      <td>0</td>\n",
              "    </tr>\n",
              "  </tbody>\n",
              "</table>\n",
              "</div>"
            ],
            "text/plain": [
              "   Composante principale 1  Composante principale 2  y\n",
              "0                -2.264703                 0.480027  0\n",
              "1                -2.080961                -0.674134  0\n",
              "2                -2.364229                -0.341908  0\n",
              "3                -2.299384                -0.597395  0\n",
              "4                -2.389842                 0.646835  0"
            ]
          },
          "metadata": {
            "tags": []
          },
          "execution_count": 65
        }
      ]
    },
    {
      "cell_type": "code",
      "metadata": {
        "id": "X0d-VlG7zXXq",
        "colab_type": "code",
        "colab": {
          "base_uri": "https://localhost:8080/",
          "height": 557
        },
        "outputId": "e299a47b-560b-46bc-d20b-63b5cecec5d8"
      },
      "source": [
        "fig = plt.figure(figsize = (8,8))\n",
        "ax = fig.add_subplot(1,1,1) \n",
        "ax.set_xlabel('Composante principale 1', fontsize = 15)\n",
        "ax.set_ylabel('Composante principale 2', fontsize = 15)\n",
        "ax.set_title('ACP à 2 composantes', fontsize = 20)\n",
        "\n",
        "colors = ['r', 'g', 'b']\n",
        "for target, color in zip(dataset_iris.target_names,colors):\n",
        "    indicesToKeep = PCA_final['y'] == target\n",
        "    ax.scatter(PCA_final.loc[indicesToKeep,'Composante principale 1']\n",
        "               , PCA_final.loc[indicesToKeep, 'Composante principale 2']\n",
        "               , c = color\n",
        "               , s = 50)\n",
        "ax.legend(dataset_iris.target_names)\n",
        "ax.grid()"
      ],
      "execution_count": 66,
      "outputs": [
        {
          "output_type": "stream",
          "text": [
            "/usr/local/lib/python3.6/dist-packages/pandas/core/ops/array_ops.py:253: FutureWarning: elementwise comparison failed; returning scalar instead, but in the future will perform elementwise comparison\n",
            "  res_values = method(rvalues)\n"
          ],
          "name": "stderr"
        },
        {
          "output_type": "display_data",
          "data": {
            "image/png": "[encoded data removed]",
            "text/plain": [
              "<Figure size 576x576 with 1 Axes>"
            ]
          },
          "metadata": {
            "tags": [],
            "needs_background": "light"
          }
        }
      ]
    },
    {
      "cell_type": "code",
      "metadata": {
        "id": "MyN8IPWr1a4Z",
        "colab_type": "code",
        "colab": {
          "base_uri": "https://localhost:8080/",
          "height": 297
        },
        "outputId": "2ed661d8-49f1-4a2e-a83c-005505043b4f"
      },
      "source": [
        "plt.figure()\n",
        "colors = ['navy', 'turquoise', 'darkorange']\n",
        "lw = 2\n",
        "\n",
        "for color, i, target_name in zip(colors, [0, 1, 2], dataset_iris.target_names):\n",
        "    plt.scatter(PCA_principalComponents[y == i, 0], PCA_principalComponents[y == i, 1], color=color, alpha=.8, lw=lw, label=target_name)\n",
        "\n",
        "plt.legend(loc='best', shadow=False, scatterpoints=1)\n",
        "plt.title('PCA of IRIS dataset')"
      ],
      "execution_count": 80,
      "outputs": [
        {
          "output_type": "execute_result",
          "data": {
            "text/plain": [
              "Text(0.5, 1.0, 'PCA of IRIS dataset')"
            ]
          },
          "metadata": {
            "tags": []
          },
          "execution_count": 80
        },
        {
          "output_type": "display_data",
          "data": {
            "image/png": "[encoded data removed]",
            "text/plain": [
              "<Figure size 432x288 with 1 Axes>"
            ]
          },
          "metadata": {
            "tags": [],
            "needs_background": "light"
          }
        }
      ]
    },
    {
      "cell_type": "code",
      "metadata": {
        "id": "_FKLenYT3l5p",
        "colab_type": "code",
        "colab": {
          "base_uri": "https://localhost:8080/",
          "height": 1000
        },
        "outputId": "94554e13-fcba-44f1-9851-c15be0d6a055"
      },
      "source": [
        "iris = load_iris()\n",
        "\n",
        "X = iris.data\n",
        "y = iris.target\n",
        "target_names = iris.target_names\n",
        "\n",
        "pca = PCA(n_components=2)\n",
        "X_r = pca.fit(X).transform(X)\n",
        "\n",
        "X_r"
      ],
      "execution_count": 73,
      "outputs": [
        {
          "output_type": "execute_result",
          "data": {
            "text/plain": [
              "array([[-2.68412563,  0.31939725],\n",
              "       [-2.71414169, -0.17700123],\n",
              "       [-2.88899057, -0.14494943],\n",
              "       [-2.74534286, -0.31829898],\n",
              "       [-2.72871654,  0.32675451],\n",
              "       [-2.28085963,  0.74133045],\n",
              "       [-2.82053775, -0.08946138],\n",
              "       [-2.62614497,  0.16338496],\n",
              "       [-2.88638273, -0.57831175],\n",
              "       [-2.6727558 , -0.11377425],\n",
              "       [-2.50694709,  0.6450689 ],\n",
              "       [-2.61275523,  0.01472994],\n",
              "       [-2.78610927, -0.235112  ],\n",
              "       [-3.22380374, -0.51139459],\n",
              "       [-2.64475039,  1.17876464],\n",
              "       [-2.38603903,  1.33806233],\n",
              "       [-2.62352788,  0.81067951],\n",
              "       [-2.64829671,  0.31184914],\n",
              "       [-2.19982032,  0.87283904],\n",
              "       [-2.5879864 ,  0.51356031],\n",
              "       [-2.31025622,  0.39134594],\n",
              "       [-2.54370523,  0.43299606],\n",
              "       [-3.21593942,  0.13346807],\n",
              "       [-2.30273318,  0.09870885],\n",
              "       [-2.35575405, -0.03728186],\n",
              "       [-2.50666891, -0.14601688],\n",
              "       [-2.46882007,  0.13095149],\n",
              "       [-2.56231991,  0.36771886],\n",
              "       [-2.63953472,  0.31203998],\n",
              "       [-2.63198939, -0.19696122],\n",
              "       [-2.58739848, -0.20431849],\n",
              "       [-2.4099325 ,  0.41092426],\n",
              "       [-2.64886233,  0.81336382],\n",
              "       [-2.59873675,  1.09314576],\n",
              "       [-2.63692688, -0.12132235],\n",
              "       [-2.86624165,  0.06936447],\n",
              "       [-2.62523805,  0.59937002],\n",
              "       [-2.80068412,  0.26864374],\n",
              "       [-2.98050204, -0.48795834],\n",
              "       [-2.59000631,  0.22904384],\n",
              "       [-2.77010243,  0.26352753],\n",
              "       [-2.84936871, -0.94096057],\n",
              "       [-2.99740655, -0.34192606],\n",
              "       [-2.40561449,  0.18887143],\n",
              "       [-2.20948924,  0.43666314],\n",
              "       [-2.71445143, -0.2502082 ],\n",
              "       [-2.53814826,  0.50377114],\n",
              "       [-2.83946217, -0.22794557],\n",
              "       [-2.54308575,  0.57941002],\n",
              "       [-2.70335978,  0.10770608],\n",
              "       [ 1.28482569,  0.68516047],\n",
              "       [ 0.93248853,  0.31833364],\n",
              "       [ 1.46430232,  0.50426282],\n",
              "       [ 0.18331772, -0.82795901],\n",
              "       [ 1.08810326,  0.07459068],\n",
              "       [ 0.64166908, -0.41824687],\n",
              "       [ 1.09506066,  0.28346827],\n",
              "       [-0.74912267, -1.00489096],\n",
              "       [ 1.04413183,  0.2283619 ],\n",
              "       [-0.0087454 , -0.72308191],\n",
              "       [-0.50784088, -1.26597119],\n",
              "       [ 0.51169856, -0.10398124],\n",
              "       [ 0.26497651, -0.55003646],\n",
              "       [ 0.98493451, -0.12481785],\n",
              "       [-0.17392537, -0.25485421],\n",
              "       [ 0.92786078,  0.46717949],\n",
              "       [ 0.66028376, -0.35296967],\n",
              "       [ 0.23610499, -0.33361077],\n",
              "       [ 0.94473373, -0.54314555],\n",
              "       [ 0.04522698, -0.58383438],\n",
              "       [ 1.11628318, -0.08461685],\n",
              "       [ 0.35788842, -0.06892503],\n",
              "       [ 1.29818388, -0.32778731],\n",
              "       [ 0.92172892, -0.18273779],\n",
              "       [ 0.71485333,  0.14905594],\n",
              "       [ 0.90017437,  0.32850447],\n",
              "       [ 1.33202444,  0.24444088],\n",
              "       [ 1.55780216,  0.26749545],\n",
              "       [ 0.81329065, -0.1633503 ],\n",
              "       [-0.30558378, -0.36826219],\n",
              "       [-0.06812649, -0.70517213],\n",
              "       [-0.18962247, -0.68028676],\n",
              "       [ 0.13642871, -0.31403244],\n",
              "       [ 1.38002644, -0.42095429],\n",
              "       [ 0.58800644, -0.48428742],\n",
              "       [ 0.80685831,  0.19418231],\n",
              "       [ 1.22069088,  0.40761959],\n",
              "       [ 0.81509524, -0.37203706],\n",
              "       [ 0.24595768, -0.2685244 ],\n",
              "       [ 0.16641322, -0.68192672],\n",
              "       [ 0.46480029, -0.67071154],\n",
              "       [ 0.8908152 , -0.03446444],\n",
              "       [ 0.23054802, -0.40438585],\n",
              "       [-0.70453176, -1.01224823],\n",
              "       [ 0.35698149, -0.50491009],\n",
              "       [ 0.33193448, -0.21265468],\n",
              "       [ 0.37621565, -0.29321893],\n",
              "       [ 0.64257601,  0.01773819],\n",
              "       [-0.90646986, -0.75609337],\n",
              "       [ 0.29900084, -0.34889781],\n",
              "       [ 2.53119273, -0.00984911],\n",
              "       [ 1.41523588, -0.57491635],\n",
              "       [ 2.61667602,  0.34390315],\n",
              "       [ 1.97153105, -0.1797279 ],\n",
              "       [ 2.35000592, -0.04026095],\n",
              "       [ 3.39703874,  0.55083667],\n",
              "       [ 0.52123224, -1.19275873],\n",
              "       [ 2.93258707,  0.3555    ],\n",
              "       [ 2.32122882, -0.2438315 ],\n",
              "       [ 2.91675097,  0.78279195],\n",
              "       [ 1.66177415,  0.24222841],\n",
              "       [ 1.80340195, -0.21563762],\n",
              "       [ 2.1655918 ,  0.21627559],\n",
              "       [ 1.34616358, -0.77681835],\n",
              "       [ 1.58592822, -0.53964071],\n",
              "       [ 1.90445637,  0.11925069],\n",
              "       [ 1.94968906,  0.04194326],\n",
              "       [ 3.48705536,  1.17573933],\n",
              "       [ 3.79564542,  0.25732297],\n",
              "       [ 1.30079171, -0.76114964],\n",
              "       [ 2.42781791,  0.37819601],\n",
              "       [ 1.19900111, -0.60609153],\n",
              "       [ 3.49992004,  0.4606741 ],\n",
              "       [ 1.38876613, -0.20439933],\n",
              "       [ 2.2754305 ,  0.33499061],\n",
              "       [ 2.61409047,  0.56090136],\n",
              "       [ 1.25850816, -0.17970479],\n",
              "       [ 1.29113206, -0.11666865],\n",
              "       [ 2.12360872, -0.20972948],\n",
              "       [ 2.38800302,  0.4646398 ],\n",
              "       [ 2.84167278,  0.37526917],\n",
              "       [ 3.23067366,  1.37416509],\n",
              "       [ 2.15943764, -0.21727758],\n",
              "       [ 1.44416124, -0.14341341],\n",
              "       [ 1.78129481, -0.49990168],\n",
              "       [ 3.07649993,  0.68808568],\n",
              "       [ 2.14424331,  0.1400642 ],\n",
              "       [ 1.90509815,  0.04930053],\n",
              "       [ 1.16932634, -0.16499026],\n",
              "       [ 2.10761114,  0.37228787],\n",
              "       [ 2.31415471,  0.18365128],\n",
              "       [ 1.9222678 ,  0.40920347],\n",
              "       [ 1.41523588, -0.57491635],\n",
              "       [ 2.56301338,  0.2778626 ],\n",
              "       [ 2.41874618,  0.3047982 ],\n",
              "       [ 1.94410979,  0.1875323 ],\n",
              "       [ 1.52716661, -0.37531698],\n",
              "       [ 1.76434572,  0.07885885],\n",
              "       [ 1.90094161,  0.11662796],\n",
              "       [ 1.39018886, -0.28266094]])"
            ]
          },
          "metadata": {
            "tags": []
          },
          "execution_count": 73
        }
      ]
    }
  ]
}